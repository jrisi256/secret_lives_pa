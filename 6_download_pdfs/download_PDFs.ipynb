{
 "cells": [
  {
   "cell_type": "code",
   "execution_count": 1,
   "metadata": {},
   "outputs": [],
   "source": [
    "import os\n",
    "import pandas as pd\n",
    "from dotenv import load_dotenv, dotenv_values\n",
    "from zenrows import ZenRowsClient\n",
    "import requests\n",
    "from multiprocessing.pool import ThreadPool"
   ]
  },
  {
   "cell_type": "code",
   "execution_count": 2,
   "metadata": {},
   "outputs": [],
   "source": [
    "path = \"~/Documents/secret_lives_pa/output/pdf_download_list/\"\n",
    "\n",
    "criminal_cases_df = pd.read_csv(\n",
    "    path + \"criminal_pdf_links.csv.gz\",\n",
    "    compression = \"gzip\",\n",
    "    dtype = {\"file_name\": str, \"link\": str, \"successfully_scraped\": bool}\n",
    ")\n",
    "\n",
    "lt_cases_df = pd.read_csv(\n",
    "    path + \"lt_pdf_links.csv.gz\",\n",
    "    compression = \"gzip\",\n",
    "    dtype = {\"file_name\": str, \"link\": str, \"successfully_scraped\": bool}\n",
    ")"
   ]
  },
  {
   "cell_type": "code",
   "execution_count": null,
   "metadata": {},
   "outputs": [],
   "source": [
    "urls_criminal = criminal_cases_df[\"link\"].to_list()\n",
    "urls_lt = lt_cases_df[\"link\"].to_list()"
   ]
  },
  {
   "cell_type": "code",
   "execution_count": 5,
   "metadata": {},
   "outputs": [],
   "source": [
    "urls = [\n",
    "    \"https://www.google.com/\", \"https://www.google.com/\", \"https://www.google.com/\", \"https://www.google.com/monkey\", \"https://www.google.com/monkey\",\n",
    "    \"https://www.google.com/\", \"https://www.google.com/\", \"https://www.google.com/\", \"https://www.google.com/monkey\", \"https://www.google.com/monkey\",\n",
    "    \"https://www.google.com/\", \"https://www.google.com/\", \"https://www.google.com/\", \"https://www.google.com/monkey\", \"https://www.google.com/monkey\",\n",
    "    \"https://www.google.com/\", \"https://www.google.com/\", \"https://www.google.com/\", \"https://www.google.com/monkey\", \"https://www.google.com/monkey\",\n",
    "    \"https://www.google.com/\", \"https://www.google.com/\", \"https://www.google.com/\", \"https://www.google.com/monkey\", \"https://www.google.com/monkey\",\n",
    "    \"https://www.google.com/\", \"https://www.google.com/\", \"https://www.google.com/\", \"https://www.google.com/monkey\", \"https://www.google.com/monkey\",\n",
    "    \"https://www.google.com/\", \"https://www.google.com/\", \"https://www.google.com/\", \"https://www.google.com/monkey\", \"https://www.google.com/monkey\",\n",
    "    \"https://www.google.com/\", \"https://www.google.com/\", \"https://www.google.com/\", \"https://www.google.com/monkey\", \"https://www.google.com/monkey\",\n",
    "    \"https://www.google.com/\", \"https://www.google.com/\", \"https://www.google.com/\", \"https://www.google.com/monkey\", \"https://www.google.com/monkey\",\n",
    "    \"https://www.google.com/\", \"https://www.google.com/\", \"https://www.google.com/\", \"https://www.google.com/monkey\", \"https://www.google.com/monkey\",\n",
    "    \"https://www.google.com/\", \"https://www.google.com/\", \"https://www.google.com/\", \"https://www.google.com/monkey\", \"https://www.google.com/monkey\",\n",
    "    \"https://www.google.com/\", \"https://www.google.com/\", \"https://www.google.com/\", \"https://www.google.com/monkey\", \"https://www.google.com/monkey\",\n",
    "    \"https://www.google.com/\", \"https://www.google.com/\", \"https://www.google.com/\", \"https://www.google.com/monkey\", \"https://www.google.com/monkey\",\n",
    "    \"https://www.google.com/\", \"https://www.google.com/\", \"https://www.google.com/\", \"https://www.google.com/monkey\", \"https://www.google.com/monkey\",\n",
    "    \"https://www.google.com/\", \"https://www.google.com/\", \"https://www.google.com/\", \"https://www.google.com/monkey\", \"https://www.google.com/monkey\",\n",
    "    \"https://www.google.com/\", \"https://www.google.com/\", \"https://www.google.com/\", \"https://www.google.com/monkey\", \"https://www.google.com/monkey\"\n",
    "]"
   ]
  },
  {
   "cell_type": "code",
   "execution_count": null,
   "metadata": {},
   "outputs": [],
   "source": [
    "nr_workers = 5\n",
    "\n",
    "def visit_url(url):\n",
    "    response = requests.get(\n",
    "        url=url,\n",
    "    )\n",
    "\n",
    "    return {\"status_code\": response.status_code}\n",
    "\n",
    "pool = ThreadPool(nr_workers)\n",
    "results = pool.map(visit_url, urls)\n",
    "pool.close()\n",
    "pool.join()\n",
    "\n",
    "for result in results:\n",
    "    if(result[\"status_code\"] == 200):\n",
    "        print(\"Success\")\n",
    "    else:\n",
    "        print(\"Failure\")"
   ]
  },
  {
   "cell_type": "code",
   "execution_count": 5,
   "metadata": {},
   "outputs": [],
   "source": [
    "load_dotenv()\n",
    "apikey = os.getenv(\"ZENROWS_API_KEY\")"
   ]
  },
  {
   "cell_type": "code",
   "execution_count": null,
   "metadata": {},
   "outputs": [],
   "source": [
    "# Works!\n",
    "url = docket_sheet_urls_cr[1]\n",
    "name = pdf_file_names_cs_cr[1]\n",
    "\n",
    "params = {\n",
    "    'url': url,\n",
    "    'apikey': apikey,\n",
    "}\n",
    "\n",
    "response = requests.get('https://api.zenrows.com/v1/', params=params)\n",
    "\n",
    "with open(name, 'wb') as f:\n",
    "    f.write(response.content)"
   ]
  },
  {
   "cell_type": "code",
   "execution_count": null,
   "metadata": {},
   "outputs": [],
   "source": [
    "urls[1:100]"
   ]
  },
  {
   "cell_type": "code",
   "execution_count": null,
   "metadata": {},
   "outputs": [],
   "source": [
    "concurrency = 5\n",
    "urls = docket_sheet_urls_cr[1:200]\n",
    "names = pdf_file_names_ds_cr[1:200]\n",
    "\n",
    "#urls = [\"https://ujsportal.pacourts.us/Report/CpDocketSheet?docketNumber=CP-01-CR-0000044-2005&dnh=NmVMYK31Keom55Hm%2Be06ug%3D%3D\", \"https://ujsportal.pacourts.us/Report/CpDocketSheet?docketNumber=CP-01-CR-0000057-2005&dnh=6C0RoGBLPa1aqbfxuSgrAA%3D%3D\", \"https://ujsportal.pacourts.us/Report/CpDocketSheet?docketNumber=CP-01-CR-0000089-2005&dnh=UOsGIFOK2EW0daq0IdvfCQ%3D%3D\", \"https://ujsportal.pacourts.us/Report/CpDocketSheet?docketNumber=CP-01-CR-0000113-2005&dnh=d2DivQYFi%2F%2FZrAXGVImrTg%3D%3D\", \"https://ujsportal.pacourts.us/Report/CpDocketSheet?docketNumber=CP-01-CR-0000114-2005&dnh=oJxlheIxD4NxR3%2BwiPqnlA%3D%3D\", \"https://ujsportal.pacourts.us/Report/CpDocketSheet?docketNumber=CP-01-CR-0000139-2005&dnh=Q4Jw4cnDqHGrKBIGVSZ7CQ%3D%3D\", \"https://ujsportal.pacourts.us/Report/MdjDocketSheet?docketNumber=MJ-51303-CR-0000288-2004&dnh=MyKcHWwvSSmIz0Qdy1CV5g%3D%3D\"]\n",
    "\n",
    "#names = [\"Adams_CP-01-CR-0000044-2005_DS.pdf\", \"Adams_CP-01-CR-0000057-2005_DS.pdf\", \"Adams_CP-01-CR-0000089-2005_DS.pdf\", \"Adams_CP-01-CR-0000113-2005_DS.pdf\", \"Adams_CP-01-CR-0000114-2005_DS.pdf\", \"Adams_CP-01-CR-0000139-2005_DS.pdf\", \"Adams_MJ-51303-CR-0000288-2004_DS.pdf\"]\n",
    "\n",
    "def download_pdf(url, name, key=apikey):\n",
    "    response = requests.get(\n",
    "        url=\"https://api.zenrows.com/v1/\",\n",
    "        params = {\n",
    "            \"url\": url,\n",
    "            \"apikey\": key\n",
    "        }\n",
    "    )\n",
    "\n",
    "    with open(name, \"wb\") as f:\n",
    "        f.write(response.content)\n",
    "\n",
    "    return {\"status_code\": response.status_code}\n",
    "\n",
    "pool = ThreadPool(concurrency)\n",
    "results = pool.starmap(download_pdf, zip(urls, names))\n",
    "pool.close()\n",
    "pool.join()"
   ]
  },
  {
   "cell_type": "code",
   "execution_count": null,
   "metadata": {},
   "outputs": [],
   "source": [
    "for result in results:\n",
    "    print(result)"
   ]
  }
 ],
 "metadata": {
  "kernelspec": {
   "display_name": "secret_lives_pa",
   "language": "python",
   "name": "secret_lives_pa"
  },
  "language_info": {
   "codemirror_mode": {
    "name": "ipython",
    "version": 3
   },
   "file_extension": ".py",
   "mimetype": "text/x-python",
   "name": "python",
   "nbconvert_exporter": "python",
   "pygments_lexer": "ipython3",
   "version": "3.11.0"
  }
 },
 "nbformat": 4,
 "nbformat_minor": 2
}
