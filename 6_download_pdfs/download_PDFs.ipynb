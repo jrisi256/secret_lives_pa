{
 "cells": [
  {
   "cell_type": "code",
   "execution_count": 1,
   "metadata": {},
   "outputs": [],
   "source": [
    "import os\n",
    "import pandas as pd\n",
    "import numpy as np\n",
    "from dotenv import load_dotenv, dotenv_values\n",
    "from zenrows import ZenRowsClient\n",
    "import requests\n",
    "from multiprocessing.pool import ThreadPool\n",
    "import threading"
   ]
  },
  {
   "cell_type": "code",
   "execution_count": 2,
   "metadata": {},
   "outputs": [],
   "source": [
    "# Intialize lock on threads.\n",
    "csv_writer_lock = threading.Lock()\n",
    "\n",
    "# Initialize paths.\n",
    "csv_path = \"/home/joe/Documents/secret_lives_pa/output/pdf_download_list/\"\n",
    "pdf_path = \"/home/joe/Documents/secret_lives_pa/output/pdf_download_list/pdfs/\"\n",
    "\n",
    "# Intialize names for files.\n",
    "pdf_log_file = \"pdf_download_log_3.csv\"\n",
    "download_links_file = \"pdf_download_links.csv\"\n",
    "\n",
    "# Read in the download links.\n",
    "cases_df = pd.read_csv(\n",
    "        csv_path + download_links_file,\n",
    "        dtype = {\"file_name\": str, \"link\": str, \"successfully_scraped\": bool}\n",
    "    )\n",
    "\n",
    "# Only keep links/cases which have not been scraped yet.\n",
    "cases_df = cases_df[cases_df[\"successfully_scraped\"] == False]\n",
    "\n",
    "# Load API key.\n",
    "load_dotenv()\n",
    "apikey = os.getenv(\"ZENROWS_API_KEY\")"
   ]
  },
  {
   "cell_type": "code",
   "execution_count": null,
   "metadata": {},
   "outputs": [],
   "source": [
    "def download_pdf(file_name, url, key = apikey):\n",
    "\n",
    "    # Request PDF using ZenRows API to avoid being blocked.\n",
    "    response = requests.get(\n",
    "        \"https://api.zenrows.com/v1/\",\n",
    "        params = {\n",
    "            \"url\": url,\n",
    "            \"apikey\": key\n",
    "        }\n",
    "    )\n",
    "\n",
    "    # Save PDF.\n",
    "    with open(pdf_path + file_name, 'wb') as f:\n",
    "        f.write(response.content)\n",
    "\n",
    "    # Return status code (in case request failed).\n",
    "    return(response.status_code)\n",
    "\n",
    "def visit_url(file_name, url):\n",
    "\n",
    "    # Download the PDF for the docket.\n",
    "    print(\"Downloading file: \" + file_name)\n",
    "    print(\"url: \" + url)\n",
    "    status_code = download_pdf(file_name, url)\n",
    "    print(\"Status code: \" + str(status_code) + \"\\n\")\n",
    "\n",
    "    # Convert results of download into a Pandas data frame.\n",
    "    print(\"Saving results\")\n",
    "    result = {\n",
    "        \"file_name\": [file_name],\n",
    "        \"link\": [url],\n",
    "        \"status_code\": [status_code]\n",
    "    }\n",
    "    df = pd.DataFrame(result)\n",
    "\n",
    "    # Save results to .csv (using the lock so it is thread safe).\n",
    "    with csv_writer_lock:\n",
    "        df.to_csv(csv_path + pdf_log_file, index = False, mode = \"a\", header = False)\n",
    "    print(\"Saved results\\n\")"
   ]
  },
  {
   "cell_type": "code",
   "execution_count": null,
   "metadata": {},
   "outputs": [],
   "source": [
    "nr_workers = 5\n",
    "pool = ThreadPool(nr_workers)\n",
    "results = pool.starmap(visit_url, zip(cases_df[\"file_name\"], cases_df[\"link\"]))\n",
    "pool.close()\n",
    "pool.join()"
   ]
  }
 ],
 "metadata": {
  "kernelspec": {
   "display_name": "secret_lives_pa",
   "language": "python",
   "name": "secret_lives_pa"
  },
  "language_info": {
   "codemirror_mode": {
    "name": "ipython",
    "version": 3
   },
   "file_extension": ".py",
   "mimetype": "text/x-python",
   "name": "python",
   "nbconvert_exporter": "python",
   "pygments_lexer": "ipython3",
   "version": "3.11.0"
  }
 },
 "nbformat": 4,
 "nbformat_minor": 2
}
