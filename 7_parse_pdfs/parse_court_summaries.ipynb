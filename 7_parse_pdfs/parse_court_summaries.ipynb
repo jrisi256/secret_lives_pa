{
 "cells": [
  {
   "cell_type": "code",
   "execution_count": 16,
   "metadata": {},
   "outputs": [],
   "source": [
    "import pdfplumber\n",
    "import os"
   ]
  },
  {
   "cell_type": "code",
   "execution_count": 2,
   "metadata": {},
   "outputs": [],
   "source": [
    "input_dir = \"../output/pdf_download_list/pdfs/\"\n",
    "files = os.listdir(input_dir)\n",
    "court_summaries_commonpleas = [f for f in files if 'CS_CP' in f]\n",
    "court_summaries_magisterial = [f for f in files if 'CS_MJ' in f]"
   ]
  },
  {
   "cell_type": "code",
   "execution_count": 25,
   "metadata": {},
   "outputs": [],
   "source": [
    "counties = [\n",
    "            \"Adams\", \"Allegheny\", \"Armstrong\", \"Beaver\", \"Bedford\", \"Berks\",\n",
    "            \"Blair\", \"Bradford\", \"Bucks\", \"Butler\", \"Cambria\", \"Cameron\",\n",
    "            \"Carbon\", \"Centre\", \"Chester\", \"Clarion\", \"Clearfield\", \"Clinton\",\n",
    "            \"Columbia\", \"Crawford\", \"Cumberland\", \"Dauphin\", \"Delaware\", \"Elk\",\n",
    "            \"Erie\", \"Fayette\", \"Forest\", \"Franklin\", \"Fulton\", \"Greene\",\n",
    "            \"Huntingdon\", \"Indiana\", \"Jefferson\", \"Juniata\", \"Lackawanna\",\n",
    "            \"Lancaster\", \"Lawrence\", \"Lebanon\", \"Lehigh\", \"Luzerne\", \"Lycoming\",\n",
    "            \"McKean\", \"Mercer\", \"Mifflin\", \"Monroe\", \"Montgomery\", \"Montour\",\n",
    "            \"Northampton\", \"Northumberla\", \"Perry\", \"Philadelphia\", \"Pike\",\n",
    "            \"Potter\", \"Schuylkill\", \"Snyder\", \"Somerset\", \"Sullivan\",\n",
    "            \"Susquehanna\", \"Tioga\", \"Union\", \"Venango\", \"Warren\", \"Washington\",\n",
    "            \"Wayne\", \"Westmoreland\", \"Wyoming\", \"York\"\n",
    "            ]"
   ]
  },
  {
   "cell_type": "code",
   "execution_count": null,
   "metadata": {},
   "outputs": [
    {
     "name": "stdout",
     "output_type": "stream",
     "text": [
      "Name: Johnson, Edward\n",
      "DOB: 09/28/1988\n",
      "Sex: Male\n",
      "Location: Philadelphia, PA 19141\n",
      "Eyes: Brown\n",
      "Hair: Black\n",
      "Race: Black\n",
      "['Edward Joshua Johnson', 'Edward S. Johnson', 'Edward Johnson']\n"
     ]
    },
    {
     "ename": "KeyError",
     "evalue": "'case_-1'",
     "output_type": "error",
     "traceback": [
      "\u001b[0;31m---------------------------------------------------------------------------\u001b[0m",
      "\u001b[0;31mKeyError\u001b[0m                                  Traceback (most recent call last)",
      "Cell \u001b[0;32mIn[46], line 64\u001b[0m\n\u001b[1;32m     62\u001b[0m \u001b[38;5;66;03m# Check if the current line is a new county.\u001b[39;00m\n\u001b[1;32m     63\u001b[0m \u001b[38;5;28;01melif\u001b[39;00m(cur_line \u001b[38;5;129;01min\u001b[39;00m counties):\n\u001b[0;32m---> 64\u001b[0m     \u001b[43mcs_dict\u001b[49m\u001b[43m[\u001b[49m\u001b[43mcase_status\u001b[49m\u001b[43m]\u001b[49m\u001b[43m[\u001b[49m\u001b[43mcase_nr_idx\u001b[49m\u001b[43m]\u001b[49m[\u001b[38;5;124m\"\u001b[39m\u001b[38;5;124mcounty\u001b[39m\u001b[38;5;124m\"\u001b[39m] \u001b[38;5;241m=\u001b[39m cur_line\u001b[38;5;241m.\u001b[39mlower()\n\u001b[1;32m     65\u001b[0m \u001b[38;5;66;03m# If we are not on a new county or new case status, the top three lines of every case follow a consistent pattern. It also signals a new case.\u001b[39;00m\n\u001b[1;32m     66\u001b[0m \u001b[38;5;66;03m# 1st line: Docket Number, Proc. Status, DC Number, and OTN Number.\u001b[39;00m\n\u001b[1;32m     67\u001b[0m \u001b[38;5;66;03m# 2nd line: Arrest date, disposition date, and disposition judge.\u001b[39;00m\n\u001b[1;32m     68\u001b[0m \u001b[38;5;66;03m# 3rd line: Defense attorney\u001b[39;00m\n\u001b[1;32m     69\u001b[0m \u001b[38;5;28;01melif\u001b[39;00m(\u001b[38;5;124m\"\u001b[39m\u001b[38;5;124mProc Status: \u001b[39m\u001b[38;5;124m\"\u001b[39m \u001b[38;5;129;01min\u001b[39;00m cur_line):\n",
      "\u001b[0;31mKeyError\u001b[0m: 'case_-1'"
     ]
    }
   ],
   "source": [
    "pdf_path = \"../output/pdf_download_list/pdfs/CS_CP-51-CR-0013145-2010.pdf\"\n",
    "pdf = pdfplumber.open(pdf_path)\n",
    "pages = pdf.pages\n",
    "cs_dict = {}\n",
    "\n",
    "for page in pages:\n",
    "    text = page.extract_text().split(\"\\n\")\n",
    "    \n",
    "    # Beginning part of every court summary in court of common pleas has a block of text with person information.\n",
    "    poi_start_index = [i for i, x in enumerate(text) if \"DOB:\" in x][0]\n",
    "    poi_end_index = [i for i,x in enumerate(text) if \"closed\" in x.lower() or \"inactive\" in x.lower() or \"active\" in x.lower()][0]\n",
    "    poi = text[poi_start_index:poi_end_index]\n",
    "\n",
    "    # Name, DOB, and Sex appear on the first line.\n",
    "    cs_dict[\"name\"] = poi[0].split(\"DOB:\")[0].strip()\n",
    "    cs_dict[\"dob\"] = poi[0].split(\"DOB:\")[1].split(\"Sex:\")[0].strip()\n",
    "    cs_dict[\"sex\"] = poi[0].split(\"DOB:\")[1].split(\"Sex:\")[1].strip()\n",
    "\n",
    "    # Location and Eye Color appear on the second line.\n",
    "    cs_dict[\"location\"] = poi[1].split(\"Eyes:\")[0].strip()\n",
    "    cs_dict[\"eyes\"] = poi[1].split(\"Eyes:\")[1].strip()\n",
    "\n",
    "    # Alias and hair color are on the third line, but alias is blank on this line.\n",
    "    cs_dict[\"hair\"] = poi[2].split(\"Hair:\")[1].strip()\n",
    "\n",
    "    # The first alias and race are on the fourth line.\n",
    "    alias = poi[3].split(\"Race:\")[0].strip()\n",
    "    cs_dict[\"race\"] = poi[3].split(\"Race:\")[1].strip()                          \n",
    "\n",
    "    # The rest of the aliases are on subequent lines.\n",
    "    remainder_alias = poi[4:len(poi)]\n",
    "    remainder_alias.append(alias)\n",
    "    cs_dict[\"alias\"] = remainder_alias\n",
    "\n",
    "    \n",
    "    print(\"Name: \" + cs_dict[\"name\"])\n",
    "    print(\"DOB: \" + cs_dict[\"dob\"])\n",
    "    print(\"Sex: \" + cs_dict[\"sex\"])\n",
    "    print(\"Location: \" + cs_dict[\"location\"])\n",
    "    print(\"Eyes: \" + cs_dict[\"eyes\"])\n",
    "    print(\"Hair: \" + cs_dict[\"hair\"])\n",
    "    print(\"Race: \" + cs_dict[\"race\"])\n",
    "    print(cs_dict[\"alias\"])\n",
    "\n",
    "    cases_to_be_parsed = True\n",
    "    current_line_index = poi_end_index\n",
    "    case_nr = 0\n",
    "    case_nr_idx = \"case_\" + str(case_nr)\n",
    "    seq_nr = 0\n",
    "    seq_nr_idx = \"seq_\" + str(seq_nr)\n",
    "    sentence_nr = 0\n",
    "    sentence_nr_idx = \"sentence_\" + str(sentence_nr)\n",
    "\n",
    "    # Loop through all the cases.\n",
    "    while(current_line_index < len(text)):\n",
    "        cur_line = text[current_line_index]\n",
    "\n",
    "        # Check if the current line is a new set of case (statuses).\n",
    "        if(cur_line.lower() in \"closed\" or cur_line.lower() in \"inactive\" or cur_line.lower() in \"active\"):\n",
    "            case_status = cur_line.lower()\n",
    "            cs_dict[case_status] = {}\n",
    "            cs_dict[case_status][case_nr_idx] = {}\n",
    "        # Check if the current line is a new county.\n",
    "        elif(cur_line in counties):\n",
    "            cs_dict[case_status][case_nr_idx][\"county\"] = cur_line.lower()\n",
    "        # If we are not on a new county or new case status, the top three lines of every case follow a consistent pattern. It also signals a new case.\n",
    "        # 1st line: Docket Number, Proc. Status, DC Number, and OTN Number.\n",
    "        # 2nd line: Arrest date, disposition date, and disposition judge.\n",
    "        # 3rd line: Defense attorney\n",
    "        elif(\"Proc Status: \" in cur_line):\n",
    "\n",
    "            # HOW TO FIX THIS WHEN LOOPING THROUGH FOR THE FIRST TIME. ADD A FLAG TO INDICATE IT IS THE FIRST CASE? MIGHT BE TOO COMPLICATED.\n",
    "            cs_dict[case_status][case_nr_idx][\"docket_number\"] = cur_line.split(\"Proc Status:\")[0].strip()\n",
    "            cs_dict[case_status][case_nr_idx][\"proc_status\"] = cur_line.split(\"Proc Status:\")[1].split(\"DC No:\")[0].strip().lower()\n",
    "            cs_dict[case_status][case_nr_idx][\"dc_nr\"] = cur_line.split(\"Proc Status:\")[1].split(\"DC No:\")[1].split(\"OTN:\")[0].strip().lower()\n",
    "            cs_dict[case_status][case_nr_idx][\"otn_nr\"] = cur_line.split(\"Proc Status:\")[1].split(\"DC No:\")[1].split(\"OTN:\")[1].strip().lower()\n",
    "\n",
    "        current_line_index += 1\n",
    "    \n",
    "    print(cs_dict)"
   ]
  },
  {
   "cell_type": "code",
   "execution_count": 12,
   "metadata": {},
   "outputs": [],
   "source": [
    "test = \"name\"\n",
    "test_dict = {}\n",
    "test_dict[test] = \"monkey\"\n",
    "\n",
    "\n",
    "dict = {}\n",
    "dict[\"closed\"] = {}\n",
    "dict[\"closed\"][\"case_0\"] = {}\n",
    "dict[\"closed\"][\"case_0\"][\"location\"] = \"Philadelphia\"\n",
    "dict[\"closed\"][\"case_0\"][\"docket_nr\"] = \"CP-51-CR-0013145-2010\"\n",
    "dict[\"closed\"][\"case_0\"][\"proc_status\"] = \"completed\"\n",
    "dict[\"closed\"][\"case_0\"][\"dc_nr\"] = \"10240\"\n",
    "dict[\"closed\"][\"case_0\"][\"OTN\"] = \"N 700005-5\"\n",
    "dict[\"closed\"][\"case_0\"][\"arrest_date\"] = \"08/31/2010\"\n",
    "dict[\"closed\"][\"case_0\"][\"disp_date\"] = \"03/23/2011\"\n",
    "dict[\"closed\"][\"case_0\"][\"disp_judge\"] = \"Paula A. Patrick\"\n",
    "dict[\"closed\"][\"case_0\"][\"def_attorney\"] = \"Edward C. Jr. Meehan\"\n",
    "dict[\"closed\"][\"case_0\"][\"seq_0\"] = {}\n",
    "dict[\"closed\"][\"case_0\"][\"seq_0\"][\"seq_num\"] = \"1\"\n",
    "dict[\"closed\"][\"case_0\"][\"seq_0\"][\"statute\"] = \"18&6106&&A1\"\n",
    "dict[\"closed\"][\"case_0\"][\"seq_0\"][\"grade\"] = \"F3\"\n",
    "dict[\"closed\"][\"case_0\"][\"seq_0\"][\"description\"] = \"firearms not to be carried\"\n",
    "dict[\"closed\"][\"case_0\"][\"seq_0\"][\"disposition\"] = \"guilty\"\n",
    "dict[\"closed\"][\"case_0\"][\"seq_0\"][\"sentence_0\"] = {}\n",
    "dict[\"closed\"][\"case_0\"][\"seq_0\"][\"sentence_0\"][\"sentence_date\"] = \"05/18/2011\"\n",
    "dict[\"closed\"][\"case_0\"][\"seq_0\"][\"sentence_0\"][\"sentence_type\"] = \"confinement\"\n",
    "dict[\"closed\"][\"case_0\"][\"seq_0\"][\"sentence_0\"][\"program_period\"] = \"11 1/2 - 23 months\"\n",
    "dict[\"closed\"][\"case_0\"][\"seq_0\"][\"sentence_0\"][\"sentence_length\"] = \"min: 11 months 15 days max: 23 months\"\n",
    "dict[\"closed\"][\"case_0\"][\"seq_0\"][\"sentence_1\"] = {}\n",
    "dict[\"closed\"][\"case_0\"][\"seq_0\"][\"sentence_1\"][\"sentence_date\"] = \"05/18/2011\"\n",
    "dict[\"closed\"][\"case_0\"][\"seq_0\"][\"sentence_1\"][\"sentence_type\"] = \"probation\"\n",
    "dict[\"closed\"][\"case_0\"][\"seq_0\"][\"sentence_1\"][\"program_period\"] = \"2 years\"\n",
    "dict[\"closed\"][\"case_0\"][\"seq_0\"][\"sentence_1\"][\"sentence_length\"] = \"max 2 years\"\n",
    "dict[\"closed\"][\"case_0\"][\"seq_1\"] = {}\n",
    "dict[\"closed\"][\"case_0\"][\"seq_1\"][\"seq_num\"] = \"2\"\n",
    "dict[\"closed\"][\"case_0\"][\"seq_1\"][\"statute\"] = \"18&6108\"\n",
    "dict[\"closed\"][\"case_0\"][\"seq_1\"][\"grade\"] = \"M1\"\n",
    "dict[\"closed\"][\"case_0\"][\"seq_1\"][\"description\"] = \"carry firearms in public\"\n",
    "dict[\"closed\"][\"case_0\"][\"seq_1\"][\"disposition\"] = \"guilty\""
   ]
  },
  {
   "cell_type": "code",
   "execution_count": 13,
   "metadata": {},
   "outputs": [
    {
     "name": "stdout",
     "output_type": "stream",
     "text": [
      "{'closed': {'case_0': {'location': 'Philadelphia', 'docket_nr': 'CP-51-CR-0013145-2010', 'proc_status': 'completed', 'dc_nr': '10240', 'OTN': 'N 700005-5', 'arrest_date': '08/31/2010', 'disp_date': '03/23/2011', 'disp_judge': 'Paula A. Patrick', 'def_attorney': 'Edward C. Jr. Meehan', 'seq_0': {'seq_num': '1', 'statute': '18&6106&&A1', 'grade': 'F3', 'description': 'firearms not to be carried', 'disposition': 'guilty', 'sentence_0': {'sentence_date': '05/18/2011', 'sentence_type': 'confinement', 'program_period': '11 1/2 - 23 months', 'sentence_length': 'min: 11 months 15 days max: 23 months'}, 'sentence_1': {'sentence_date': '05/18/2011', 'sentence_type': 'probation', 'program_period': '2 years', 'sentence_length': 'max 2 years'}}, 'seq_1': {'seq_num': '2', 'statute': '18&6108', 'grade': 'M1', 'description': 'carry firearms in public', 'disposition': 'guilty'}}}}\n",
      "{'name': 'monkey'}\n"
     ]
    }
   ],
   "source": [
    "print(dict)\n",
    "print(test_dict)"
   ]
  }
 ],
 "metadata": {
  "kernelspec": {
   "display_name": "secret_lives_pa",
   "language": "python",
   "name": "secret_lives_pa"
  },
  "language_info": {
   "codemirror_mode": {
    "name": "ipython",
    "version": 3
   },
   "file_extension": ".py",
   "mimetype": "text/x-python",
   "name": "python",
   "nbconvert_exporter": "python",
   "pygments_lexer": "ipython3",
   "version": "3.11.0"
  }
 },
 "nbformat": 4,
 "nbformat_minor": 2
}
