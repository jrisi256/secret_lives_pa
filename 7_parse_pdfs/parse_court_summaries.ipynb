{
 "cells": [
  {
   "cell_type": "code",
   "execution_count": 1,
   "metadata": {},
   "outputs": [],
   "source": [
    "import pdfplumber\n",
    "import os"
   ]
  },
  {
   "cell_type": "code",
   "execution_count": 23,
   "metadata": {},
   "outputs": [],
   "source": [
    "input_dir = \"../output/pdf_download_list/pdfs/\"\n",
    "files = os.listdir(input_dir)\n",
    "court_summaries_commonpleas = [f for f in files if 'CS_CP' in f]\n",
    "court_summaries_magisterial = [f for f in files if 'CS_MJ' in f]"
   ]
  },
  {
   "cell_type": "code",
   "execution_count": null,
   "metadata": {},
   "outputs": [
    {
     "name": "stdout",
     "output_type": "stream",
     "text": [
      "Name: Johnson, Edward\n",
      "DOB: 09/28/1988\n",
      "Sex: Male\n",
      "Location: Philadelphia, PA 19141\n",
      "Eyes: Brown\n",
      "Hair: Black\n",
      "Race: Black\n",
      "None\n"
     ]
    },
    {
     "ename": "IndexError",
     "evalue": "list index out of range",
     "output_type": "error",
     "traceback": [
      "\u001b[0;31m---------------------------------------------------------------------------\u001b[0m",
      "\u001b[0;31mIndexError\u001b[0m                                Traceback (most recent call last)",
      "Cell \u001b[0;32mIn[62], line 8\u001b[0m\n\u001b[1;32m      5\u001b[0m text \u001b[38;5;241m=\u001b[39m page\u001b[38;5;241m.\u001b[39mextract_text()\u001b[38;5;241m.\u001b[39msplit(\u001b[38;5;124m\"\u001b[39m\u001b[38;5;130;01m\\n\u001b[39;00m\u001b[38;5;124m\"\u001b[39m)\n\u001b[1;32m      7\u001b[0m \u001b[38;5;66;03m# Beginning part of every court summary in court of common pleas has a block of text with person information.\u001b[39;00m\n\u001b[0;32m----> 8\u001b[0m poi_start_index \u001b[38;5;241m=\u001b[39m \u001b[43m[\u001b[49m\u001b[43mi\u001b[49m\u001b[43m \u001b[49m\u001b[38;5;28;43;01mfor\u001b[39;49;00m\u001b[43m \u001b[49m\u001b[43mi\u001b[49m\u001b[43m,\u001b[49m\u001b[43m \u001b[49m\u001b[43mx\u001b[49m\u001b[43m \u001b[49m\u001b[38;5;129;43;01min\u001b[39;49;00m\u001b[43m \u001b[49m\u001b[38;5;28;43menumerate\u001b[39;49m\u001b[43m(\u001b[49m\u001b[43mtext\u001b[49m\u001b[43m)\u001b[49m\u001b[43m \u001b[49m\u001b[38;5;28;43;01mif\u001b[39;49;00m\u001b[43m \u001b[49m\u001b[38;5;124;43m\"\u001b[39;49m\u001b[38;5;124;43mDOB:\u001b[39;49m\u001b[38;5;124;43m\"\u001b[39;49m\u001b[43m \u001b[49m\u001b[38;5;129;43;01min\u001b[39;49;00m\u001b[43m \u001b[49m\u001b[43mx\u001b[49m\u001b[43m]\u001b[49m\u001b[43m[\u001b[49m\u001b[38;5;241;43m0\u001b[39;49m\u001b[43m]\u001b[49m\n\u001b[1;32m      9\u001b[0m poi_end_index \u001b[38;5;241m=\u001b[39m [i \u001b[38;5;28;01mfor\u001b[39;00m i,x \u001b[38;5;129;01min\u001b[39;00m \u001b[38;5;28menumerate\u001b[39m(text) \u001b[38;5;28;01mif\u001b[39;00m \u001b[38;5;124m\"\u001b[39m\u001b[38;5;124mclosed\u001b[39m\u001b[38;5;124m\"\u001b[39m \u001b[38;5;129;01min\u001b[39;00m x\u001b[38;5;241m.\u001b[39mlower() \u001b[38;5;129;01mor\u001b[39;00m \u001b[38;5;124m\"\u001b[39m\u001b[38;5;124minactive\u001b[39m\u001b[38;5;124m\"\u001b[39m \u001b[38;5;129;01min\u001b[39;00m x\u001b[38;5;241m.\u001b[39mlower() \u001b[38;5;129;01mor\u001b[39;00m \u001b[38;5;124m\"\u001b[39m\u001b[38;5;124mactive\u001b[39m\u001b[38;5;124m\"\u001b[39m \u001b[38;5;129;01min\u001b[39;00m x\u001b[38;5;241m.\u001b[39mlower()][\u001b[38;5;241m0\u001b[39m]\n\u001b[1;32m     10\u001b[0m poi \u001b[38;5;241m=\u001b[39m text[poi_start_index:poi_end_index]\n",
      "\u001b[0;31mIndexError\u001b[0m: list index out of range"
     ]
    }
   ],
   "source": [
    "pdf_path = \"../output/pdf_download_list/pdfs/CS_CP-51-CR-0013145-2010.pdf\"\n",
    "pdf = pdfplumber.open(pdf_path)\n",
    "pages = pdf.pages\n",
    "for page in pages:\n",
    "    text = page.extract_text().split(\"\\n\")\n",
    "    \n",
    "    # Beginning part of every court summary in court of common pleas has a block of text with person information.\n",
    "    poi_start_index = [i for i, x in enumerate(text) if \"DOB:\" in x][0]\n",
    "    poi_end_index = [i for i,x in enumerate(text) if \"closed\" in x.lower() or \"inactive\" in x.lower() or \"active\" in x.lower()][0]\n",
    "    poi = text[poi_start_index:poi_end_index]\n",
    "\n",
    "    # Name, DOB, and Sex appear on the first line.\n",
    "    name = poi[0].split(\"DOB:\")[0].strip()\n",
    "    dob = poi[0].split(\"DOB:\")[1].split(\"Sex:\")[0].strip()\n",
    "    sex = poi[0].split(\"DOB:\")[1].split(\"Sex:\")[1].strip()\n",
    "\n",
    "    # Location and Eye Color appear on the second line.\n",
    "    location = poi[1].split(\"Eyes:\")[0].strip()\n",
    "    eyes = poi[1].split(\"Eyes:\")[1].strip()\n",
    "\n",
    "    # Alias and hair color are on the third line, but alias is blank on this line.\n",
    "    hair = poi[2].split(\"Hair:\")[1].strip()\n",
    "\n",
    "    # The first alias and race are on the fourth line.\n",
    "    alias = poi[3].split(\"Race:\")[0].strip()\n",
    "    race = poi[3].split(\"Race:\")[1].strip()                          \n",
    "\n",
    "    # The rest of the aliases are on subequent lines.\n",
    "    remainder_alias = poi[4:len(poi)]\n",
    "    remainder_alias.append(alias)\n",
    "\n",
    "    print(\"Name: \" + name)\n",
    "    print(\"DOB: \" + dob)\n",
    "    print(\"Sex: \" + sex)\n",
    "    print(\"Location: \" + location)\n",
    "    print(\"Eyes: \" + eyes)\n",
    "    print(\"Hair: \" + hair)\n",
    "    print(\"Race: \" + race)\n",
    "    print(remainder_alias)"
   ]
  },
  {
   "cell_type": "code",
   "execution_count": null,
   "metadata": {},
   "outputs": [],
   "source": []
  }
 ],
 "metadata": {
  "kernelspec": {
   "display_name": "secret_lives_pa",
   "language": "python",
   "name": "secret_lives_pa"
  },
  "language_info": {
   "codemirror_mode": {
    "name": "ipython",
    "version": 3
   },
   "file_extension": ".py",
   "mimetype": "text/x-python",
   "name": "python",
   "nbconvert_exporter": "python",
   "pygments_lexer": "ipython3",
   "version": "3.11.0"
  }
 },
 "nbformat": 4,
 "nbformat_minor": 2
}
