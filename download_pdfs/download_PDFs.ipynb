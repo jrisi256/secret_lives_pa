{
 "cells": [
  {
   "cell_type": "code",
   "execution_count": 1,
   "metadata": {},
   "outputs": [],
   "source": [
    "import os\n",
    "import pandas as pd\n",
    "from dotenv import load_dotenv, dotenv_values\n",
    "from zenrows import ZenRowsClient\n",
    "import requests\n",
    "from multiprocessing.pool import ThreadPool"
   ]
  },
  {
   "cell_type": "code",
   "execution_count": 2,
   "metadata": {},
   "outputs": [],
   "source": [
    "path = \"~/Documents/secret_lives_pa/output/pdf_download_list/\"\n",
    "\n",
    "criminal_cases_df = pd.read_csv(\n",
    "    path + \"criminal_pdf_links.csv.gz\",\n",
    "    compression = \"gzip\",\n",
    "    dtype = {\"county\":\"string\", \"docket_number\": \"string\", \"docket_sheet_link\": \"string\", \"court_summary_link\": \"string\"}\n",
    ")\n",
    "\n",
    "lt_cases_df = pd.read_csv(\n",
    "    path + \"lt_pdf_links.csv.gz\",\n",
    "    compression = \"gzip\",\n",
    "    dtype = {\"county\":\"string\", \"docket_number\": \"string\", \"docket_sheet_link\": \"string\", \"court_summary_link\": \"string\"}\n",
    ")"
   ]
  },
  {
   "cell_type": "code",
   "execution_count": 3,
   "metadata": {},
   "outputs": [],
   "source": [
    "docket_sheet_urls_cr = criminal_cases_df[\"docket_sheet_link\"].to_list()\n",
    "courty_summary_urls_cr = criminal_cases_df[\"court_summary_link\"].to_list()\n",
    "docket_nrs_cr = criminal_cases_df[\"docket_number\"].to_list()\n",
    "county_cr = criminal_cases_df[\"county\"].to_list()\n",
    "\n",
    "pdf_file_names_ds_cr = [i + \"_\" + j + \"_DS.pdf\" for i, j in zip(county_cr, docket_nrs_cr)]\n",
    "pdf_file_names_cs_cr = [i + \"_\" + j + \"_CS.pdf\" for i, j in zip(county_cr, docket_nrs_cr)]"
   ]
  },
  {
   "cell_type": "code",
   "execution_count": 5,
   "metadata": {},
   "outputs": [],
   "source": [
    "load_dotenv()\n",
    "apikey = os.getenv(\"ZENROWS_API_KEY\")"
   ]
  },
  {
   "cell_type": "code",
   "execution_count": null,
   "metadata": {},
   "outputs": [],
   "source": [
    "# Works!\n",
    "url = docket_sheet_urls_cr[1]\n",
    "name = pdf_file_names_cs_cr[1]\n",
    "\n",
    "params = {\n",
    "    'url': url,\n",
    "    'apikey': apikey,\n",
    "}\n",
    "\n",
    "response = requests.get('https://api.zenrows.com/v1/', params=params)\n",
    "\n",
    "with open(name, 'wb') as f:\n",
    "    f.write(response.content)"
   ]
  },
  {
   "cell_type": "code",
   "execution_count": 15,
   "metadata": {},
   "outputs": [
    {
     "data": {
      "text/plain": [
       "['https://ujsportal.pacourts.us/Report/MdjDocketSheet?docketNumber=MJ-51304-CR-0000358-2004&dnh=RgXl%2FRio%2BqmON5kGxggBOA%3D%3D',\n",
       " 'https://ujsportal.pacourts.us/Report/MdjDocketSheet?docketNumber=MJ-51304-CR-0000357-2004&dnh=WXBCuqNN93ti%2FyxMk3CnBg%3D%3D',\n",
       " 'https://ujsportal.pacourts.us/Report/MdjDocketSheet?docketNumber=MJ-51303-CR-0000004-2006&dnh=pqGePczENBJia0LPU68KUg%3D%3D',\n",
       " 'https://ujsportal.pacourts.us/Report/MdjDocketSheet?docketNumber=MJ-51303-CR-0000310-2004&dnh=BoZTfG4XvM1vjDr1RNiBqw%3D%3D',\n",
       " 'https://ujsportal.pacourts.us/Report/MdjDocketSheet?docketNumber=MJ-51303-CR-0000309-2004&dnh=oJEvAXc6M7DMGdxV9OchIQ%3D%3D',\n",
       " 'https://ujsportal.pacourts.us/Report/MdjDocketSheet?docketNumber=MJ-51303-CR-0000288-2004&dnh=MyKcHWwvSSmIz0Qdy1CV5g%3D%3D',\n",
       " 'https://ujsportal.pacourts.us/Report/MdjDocketSheet?docketNumber=MJ-51302-CR-0000047-2005&dnh=OzgpXt9pxloWVxI3tM2s9Q%3D%3D',\n",
       " 'https://ujsportal.pacourts.us/Report/MdjDocketSheet?docketNumber=MJ-51302-CR-0000016-2005&dnh=Mo5bGtNU1HZTpW1dY5w%2FSg%3D%3D',\n",
       " 'https://ujsportal.pacourts.us/Report/MdjDocketSheet?docketNumber=MJ-51302-CR-0000011-2005&dnh=NSIz7xXviWm9tngBqzbFBg%3D%3D',\n",
       " 'https://ujsportal.pacourts.us/Report/MdjDocketSheet?docketNumber=MJ-51302-CR-0000002-2005&dnh=efhK3HEBB%2FLKCDN5gIOEVw%3D%3D',\n",
       " 'https://ujsportal.pacourts.us/Report/MdjDocketSheet?docketNumber=MJ-51302-CR-0000369-2004&dnh=6bupUYrmGcZAICjE03rrqg%3D%3D',\n",
       " 'https://ujsportal.pacourts.us/Report/MdjDocketSheet?docketNumber=MJ-51301-CR-0000036-2005&dnh=exRksQNrQTd5DuzQ%2FgULcA%3D%3D',\n",
       " 'https://ujsportal.pacourts.us/Report/MdjDocketSheet?docketNumber=MJ-51301-CR-0000035-2005&dnh=pV%2FrN%2Bwl1U7H2jHbJiPudg%3D%3D',\n",
       " 'https://ujsportal.pacourts.us/Report/MdjDocketSheet?docketNumber=MJ-51301-CR-0000031-2005&dnh=SbQpNummvGv4HSumbW1fKw%3D%3D',\n",
       " 'https://ujsportal.pacourts.us/Report/MdjDocketSheet?docketNumber=MJ-51301-CR-0000010-2005&dnh=UpKCQwZBc%2FQIqGF%2FNuMn4w%3D%3D',\n",
       " 'https://ujsportal.pacourts.us/Report/MdjDocketSheet?docketNumber=MJ-51301-CR-0000006-2005&dnh=ZCkP8ttftw%2FVA3HKynT3ow%3D%3D',\n",
       " 'https://ujsportal.pacourts.us/Report/MdjDocketSheet?docketNumber=MJ-51301-CR-0000005-2005&dnh=ZihILDoZWsfufHM%2FAMY8Lg%3D%3D',\n",
       " 'https://ujsportal.pacourts.us/Report/MdjDocketSheet?docketNumber=MJ-51301-CR-0000004-2005&dnh=RhCAVXYt6z4pNpedAxb%2FWg%3D%3D',\n",
       " 'https://ujsportal.pacourts.us/Report/MdjDocketSheet?docketNumber=MJ-51301-CR-0000003-2005&dnh=Tr7EgI5cw6ssfH1biJ0J9g%3D%3D',\n",
       " 'https://ujsportal.pacourts.us/Report/MdjDocketSheet?docketNumber=MJ-51301-CR-0000002-2005&dnh=8Ii6Ddr2VMDKOkIn3NlUww%3D%3D',\n",
       " 'https://ujsportal.pacourts.us/Report/MdjDocketSheet?docketNumber=MJ-51301-CR-0000001-2005&dnh=kLxwX9%2BOfnWCQxO2V04vPQ%3D%3D',\n",
       " 'https://ujsportal.pacourts.us/Report/MdjDocketSheet?docketNumber=MJ-51301-CR-0000483-2004&dnh=WTIC6GscZeOuwb5TXXYKng%3D%3D',\n",
       " 'https://ujsportal.pacourts.us/Report/MdjDocketSheet?docketNumber=MJ-51301-CR-0000476-2004&dnh=his3aE5KCoD5CBxoyiOg7A%3D%3D',\n",
       " 'https://ujsportal.pacourts.us/Report/CpDocketSheet?docketNumber=CP-01-CR-0000146-2005&dnh=tyG2AAlChwbxTqMk5YhHVA%3D%3D',\n",
       " 'https://ujsportal.pacourts.us/Report/CpDocketSheet?docketNumber=CP-01-CR-0000145-2005&dnh=7kY7Up9y6JKGAPCD4HBgwA%3D%3D',\n",
       " 'https://ujsportal.pacourts.us/Report/CpDocketSheet?docketNumber=CP-01-CR-0000141-2005&dnh=L18%2BHnOTMf9PxXY1sz9SZA%3D%3D',\n",
       " 'https://ujsportal.pacourts.us/Report/CpDocketSheet?docketNumber=CP-01-CR-0000140-2005&dnh=GAgZ7Z%2FZmVYSDTGuMg0r5Q%3D%3D',\n",
       " 'https://ujsportal.pacourts.us/Report/CpDocketSheet?docketNumber=CP-01-CR-0000139-2005&dnh=Q4Jw4cnDqHGrKBIGVSZ7CQ%3D%3D',\n",
       " 'https://ujsportal.pacourts.us/Report/CpDocketSheet?docketNumber=CP-01-CR-0000137-2005&dnh=U8PavYm0hNJFeuakMlXzPw%3D%3D',\n",
       " 'https://ujsportal.pacourts.us/Report/CpDocketSheet?docketNumber=CP-01-CR-0000136-2005&dnh=vq58l%2B4%2BA2Gi5MmbwjQXqw%3D%3D',\n",
       " 'https://ujsportal.pacourts.us/Report/CpDocketSheet?docketNumber=CP-01-CR-0000135-2005&dnh=%2FtIVfWRNgsyOFXt13YgVMg%3D%3D',\n",
       " 'https://ujsportal.pacourts.us/Report/CpDocketSheet?docketNumber=CP-01-CR-0000133-2005&dnh=kn79Vv38Mx2uMzXGY0nIcA%3D%3D',\n",
       " 'https://ujsportal.pacourts.us/Report/CpDocketSheet?docketNumber=CP-01-CR-0000132-2005&dnh=ga5xMxa4z0lzK8jchBWD2w%3D%3D',\n",
       " 'https://ujsportal.pacourts.us/Report/CpDocketSheet?docketNumber=CP-01-CR-0000128-2005&dnh=Fw2HnfHUFQPjgfXnYRubIg%3D%3D',\n",
       " 'https://ujsportal.pacourts.us/Report/CpDocketSheet?docketNumber=CP-01-CR-0000127-2005&dnh=yJDd48dXL6bIWcP62xiIig%3D%3D',\n",
       " 'https://ujsportal.pacourts.us/Report/CpDocketSheet?docketNumber=CP-01-CR-0000126-2005&dnh=IjWyJy1XkeqX5V7neGx6pw%3D%3D',\n",
       " 'https://ujsportal.pacourts.us/Report/CpDocketSheet?docketNumber=CP-01-CR-0000125-2005&dnh=r3AFMegBLlH79K7jaDkqmQ%3D%3D',\n",
       " 'https://ujsportal.pacourts.us/Report/CpDocketSheet?docketNumber=CP-01-CR-0000124-2005&dnh=iVB3Qb7GQE21pS77XXFqeQ%3D%3D',\n",
       " 'https://ujsportal.pacourts.us/Report/CpDocketSheet?docketNumber=CP-01-CR-0000123-2005&dnh=iT4KumoU1cTxbo5SO0AS8g%3D%3D',\n",
       " 'https://ujsportal.pacourts.us/Report/CpDocketSheet?docketNumber=CP-01-CR-0000122-2005&dnh=%2FQCsiWIgiAkv9m8WmL5TuQ%3D%3D',\n",
       " 'https://ujsportal.pacourts.us/Report/CpDocketSheet?docketNumber=CP-01-CR-0000121-2005&dnh=p0nwxV1MYgQrKOtAeV6pQA%3D%3D',\n",
       " 'https://ujsportal.pacourts.us/Report/CpDocketSheet?docketNumber=CP-01-CR-0000120-2005&dnh=Ug57Q7V5st2HZzhe5vPDdQ%3D%3D',\n",
       " 'https://ujsportal.pacourts.us/Report/CpDocketSheet?docketNumber=CP-01-CR-0000119-2005&dnh=D21czjdglCIRUtexjEJNQQ%3D%3D',\n",
       " 'https://ujsportal.pacourts.us/Report/CpDocketSheet?docketNumber=CP-01-CR-0000116-2005&dnh=2ZN44nSuLDJLniB8JJWKLg%3D%3D',\n",
       " 'https://ujsportal.pacourts.us/Report/CpDocketSheet?docketNumber=CP-01-CR-0000115-2005&dnh=WMdOuDg8yS4xb9w1XQ8wLQ%3D%3D',\n",
       " 'https://ujsportal.pacourts.us/Report/CpDocketSheet?docketNumber=CP-01-CR-0000114-2005&dnh=oJxlheIxD4NxR3%2BwiPqnlA%3D%3D',\n",
       " 'https://ujsportal.pacourts.us/Report/CpDocketSheet?docketNumber=CP-01-CR-0000113-2005&dnh=d2DivQYFi%2F%2FZrAXGVImrTg%3D%3D',\n",
       " 'https://ujsportal.pacourts.us/Report/CpDocketSheet?docketNumber=CP-01-CR-0000112-2005&dnh=FCrJYDrJOEtIt62RprFFpw%3D%3D',\n",
       " 'https://ujsportal.pacourts.us/Report/CpDocketSheet?docketNumber=CP-01-CR-0000111-2005&dnh=Gd53hzj9QSd8m7v8ECAcSg%3D%3D',\n",
       " 'https://ujsportal.pacourts.us/Report/CpDocketSheet?docketNumber=CP-01-CR-0000110-2005&dnh=1Qtx%2BjrXr%2BFPFWnduWn0ww%3D%3D',\n",
       " 'https://ujsportal.pacourts.us/Report/CpDocketSheet?docketNumber=CP-01-CR-0000107-2005&dnh=haS7cBWULpySnWJ%2BNpikbg%3D%3D',\n",
       " 'https://ujsportal.pacourts.us/Report/CpDocketSheet?docketNumber=CP-01-CR-0000106-2005&dnh=gdxRa4hn%2FbWNNI%2FUqQV8TA%3D%3D',\n",
       " 'https://ujsportal.pacourts.us/Report/CpDocketSheet?docketNumber=CP-01-CR-0000105-2005&dnh=P6zc34h7hXHwOSzAcWs3sA%3D%3D',\n",
       " 'https://ujsportal.pacourts.us/Report/CpDocketSheet?docketNumber=CP-01-CR-0000102-2005&dnh=anpI%2BnP2k6n0uGPXGuRZPg%3D%3D',\n",
       " 'https://ujsportal.pacourts.us/Report/CpDocketSheet?docketNumber=CP-01-CR-0000101-2005&dnh=yIR14pk2Hxyviakq7hevhQ%3D%3D',\n",
       " 'https://ujsportal.pacourts.us/Report/CpDocketSheet?docketNumber=CP-01-CR-0000100-2005&dnh=rPm%2BsY85xlSj0WbolF2DnA%3D%3D',\n",
       " 'https://ujsportal.pacourts.us/Report/CpDocketSheet?docketNumber=CP-01-CR-0000099-2005&dnh=Kz0kRH3otz%2BEzxqKuZhNCA%3D%3D',\n",
       " 'https://ujsportal.pacourts.us/Report/CpDocketSheet?docketNumber=CP-01-CR-0000097-2005&dnh=%2FazLxba6xWJ5C8ix8SF23w%3D%3D',\n",
       " 'https://ujsportal.pacourts.us/Report/CpDocketSheet?docketNumber=CP-01-CR-0000096-2005&dnh=qNgs9CSX6Q%2B4%2FvoC8qzQ0g%3D%3D',\n",
       " 'https://ujsportal.pacourts.us/Report/CpDocketSheet?docketNumber=CP-01-CR-0000090-2005&dnh=7esIb8WSvw1zJFkIJ1anHA%3D%3D',\n",
       " 'https://ujsportal.pacourts.us/Report/CpDocketSheet?docketNumber=CP-01-CR-0000089-2005&dnh=UOsGIFOK2EW0daq0IdvfCQ%3D%3D',\n",
       " 'https://ujsportal.pacourts.us/Report/CpDocketSheet?docketNumber=CP-01-CR-0000088-2005&dnh=QW9fU8DboUHT06VbosERNA%3D%3D',\n",
       " 'https://ujsportal.pacourts.us/Report/CpDocketSheet?docketNumber=CP-01-CR-0000087-2005&dnh=vAGue5x%2FCVrkz318KN8E0A%3D%3D',\n",
       " 'https://ujsportal.pacourts.us/Report/CpDocketSheet?docketNumber=CP-01-CR-0000086-2005&dnh=ZuxpH5Ea%2BmhaiNP71I%2BDmA%3D%3D',\n",
       " 'https://ujsportal.pacourts.us/Report/CpDocketSheet?docketNumber=CP-01-CR-0000080-2005&dnh=HPG9Ygd8dkRK9erL1xGkaA%3D%3D',\n",
       " 'https://ujsportal.pacourts.us/Report/CpDocketSheet?docketNumber=CP-01-CR-0000077-2005&dnh=jMdfWYeyAyKw1HDO%2FydhSw%3D%3D',\n",
       " 'https://ujsportal.pacourts.us/Report/CpDocketSheet?docketNumber=CP-01-CR-0000075-2005&dnh=li1l%2FH5U8yyvMtL6XBQR9w%3D%3D',\n",
       " 'https://ujsportal.pacourts.us/Report/CpDocketSheet?docketNumber=CP-01-CR-0000074-2005&dnh=yNJlifEi2qjzRYCC2d6ISA%3D%3D',\n",
       " 'https://ujsportal.pacourts.us/Report/CpDocketSheet?docketNumber=CP-01-CR-0000072-2005&dnh=fcSG7DEtR4XRSqbPP2b1UQ%3D%3D',\n",
       " 'https://ujsportal.pacourts.us/Report/CpDocketSheet?docketNumber=CP-01-CR-0000071-2005&dnh=zJ0MTL5VxrB4jHgMNqEK%2Fg%3D%3D',\n",
       " 'https://ujsportal.pacourts.us/Report/CpDocketSheet?docketNumber=CP-01-CR-0000070-2005&dnh=DUj6eE1Vp5VV1164UA%2Flgg%3D%3D',\n",
       " 'https://ujsportal.pacourts.us/Report/CpDocketSheet?docketNumber=CP-01-CR-0000069-2005&dnh=qM4y4hqMY9CuDQJMq1l%2FFg%3D%3D',\n",
       " 'https://ujsportal.pacourts.us/Report/CpDocketSheet?docketNumber=CP-01-CR-0000068-2005&dnh=qbqku4vVv6TAISujtvTosg%3D%3D',\n",
       " 'https://ujsportal.pacourts.us/Report/CpDocketSheet?docketNumber=CP-01-CR-0000067-2005&dnh=pMbZxlRzUq2q7wO%2BHpgS2w%3D%3D',\n",
       " 'https://ujsportal.pacourts.us/Report/CpDocketSheet?docketNumber=CP-01-CR-0000066-2005&dnh=D93TUUDl9MuL20JkSuwG6w%3D%3D',\n",
       " 'https://ujsportal.pacourts.us/Report/CpDocketSheet?docketNumber=CP-01-CR-0000064-2005&dnh=8JmHEaGOnoisOhvl1z%2Blag%3D%3D',\n",
       " 'https://ujsportal.pacourts.us/Report/CpDocketSheet?docketNumber=CP-01-CR-0000062-2005&dnh=YUbZacBgtooIBnXSeiMrQg%3D%3D',\n",
       " 'https://ujsportal.pacourts.us/Report/CpDocketSheet?docketNumber=CP-01-CR-0000061-2005&dnh=4nZzx3Jsg6CTIvNcKbQE0A%3D%3D',\n",
       " 'https://ujsportal.pacourts.us/Report/CpDocketSheet?docketNumber=CP-01-CR-0000060-2005&dnh=cYdxnycNiGr%2B68A6sG86QQ%3D%3D',\n",
       " 'https://ujsportal.pacourts.us/Report/CpDocketSheet?docketNumber=CP-01-CR-0000059-2005&dnh=LXVqE412HrG%2BBgrrBcWOUw%3D%3D',\n",
       " 'https://ujsportal.pacourts.us/Report/CpDocketSheet?docketNumber=CP-01-CR-0000058-2005&dnh=Ah93bxrQauRBOIR9PqGfOQ%3D%3D',\n",
       " 'https://ujsportal.pacourts.us/Report/CpDocketSheet?docketNumber=CP-01-CR-0000057-2005&dnh=6C0RoGBLPa1aqbfxuSgrAA%3D%3D',\n",
       " 'https://ujsportal.pacourts.us/Report/CpDocketSheet?docketNumber=CP-01-CR-0000056-2005&dnh=P2Zeo%2BWV6MweMohla9bTQA%3D%3D',\n",
       " 'https://ujsportal.pacourts.us/Report/CpDocketSheet?docketNumber=CP-01-CR-0000055-2005&dnh=GhkcY8786nQPr4mwqVUreg%3D%3D',\n",
       " 'https://ujsportal.pacourts.us/Report/CpDocketSheet?docketNumber=CP-01-CR-0000054-2005&dnh=mlmGfbe%2B4Aqm%2FXbSn6Ttkw%3D%3D',\n",
       " 'https://ujsportal.pacourts.us/Report/CpDocketSheet?docketNumber=CP-01-CR-0000053-2005&dnh=fg7bokk94igcAeT72hl%2Bfg%3D%3D',\n",
       " 'https://ujsportal.pacourts.us/Report/CpDocketSheet?docketNumber=CP-01-CR-0000052-2005&dnh=gpCLCGDDkMYpvrLgqmPISw%3D%3D',\n",
       " 'https://ujsportal.pacourts.us/Report/CpDocketSheet?docketNumber=CP-01-CR-0000049-2005&dnh=fmgBedsLiAtzsAVsMzgHXg%3D%3D',\n",
       " 'https://ujsportal.pacourts.us/Report/CpDocketSheet?docketNumber=CP-01-CR-0000048-2005&dnh=kHoqfpfnIWa2a%2FAsDkidSA%3D%3D',\n",
       " 'https://ujsportal.pacourts.us/Report/CpDocketSheet?docketNumber=CP-01-CR-0000047-2005&dnh=lvy93S8MEtQ%2FE9QrbNwYog%3D%3D',\n",
       " 'https://ujsportal.pacourts.us/Report/CpDocketSheet?docketNumber=CP-01-CR-0000046-2005&dnh=PYvEmZ8xrDiMqjgWhENoQQ%3D%3D',\n",
       " 'https://ujsportal.pacourts.us/Report/CpDocketSheet?docketNumber=CP-01-CR-0000044-2005&dnh=NmVMYK31Keom55Hm%2Be06ug%3D%3D',\n",
       " 'https://ujsportal.pacourts.us/Report/CpDocketSheet?docketNumber=CP-01-CR-0000043-2005&dnh=4r5uVePxNTYKf9KCa2CksA%3D%3D',\n",
       " 'https://ujsportal.pacourts.us/Report/CpDocketSheet?docketNumber=CP-01-CR-0000041-2005&dnh=bQ3DBrc2FDufP31I7otrxg%3D%3D',\n",
       " 'https://ujsportal.pacourts.us/Report/CpDocketSheet?docketNumber=CP-01-CR-0000040-2005&dnh=TjkPUYsPKJPPsDkf12bpyA%3D%3D',\n",
       " 'https://ujsportal.pacourts.us/Report/CpDocketSheet?docketNumber=CP-01-CR-0000038-2005&dnh=FGTCtzGjuLsEyqmqn8j%2FoA%3D%3D',\n",
       " 'https://ujsportal.pacourts.us/Report/CpDocketSheet?docketNumber=CP-01-CR-0000035-2005&dnh=XlTOahEdFe4qB%2F%2Bwf0tg4A%3D%3D',\n",
       " 'https://ujsportal.pacourts.us/Report/CpDocketSheet?docketNumber=CP-01-CR-0000034-2005&dnh=T21UAGp6Ibbi%2Bgm5vPiIlQ%3D%3D']"
      ]
     },
     "execution_count": 15,
     "metadata": {},
     "output_type": "execute_result"
    }
   ],
   "source": [
    "urls[1:100]"
   ]
  },
  {
   "cell_type": "code",
   "execution_count": null,
   "metadata": {},
   "outputs": [],
   "source": [
    "concurrency = 5\n",
    "urls = docket_sheet_urls_cr[1:200]\n",
    "names = pdf_file_names_ds_cr[1:200]\n",
    "\n",
    "#urls = [\"https://ujsportal.pacourts.us/Report/CpDocketSheet?docketNumber=CP-01-CR-0000044-2005&dnh=NmVMYK31Keom55Hm%2Be06ug%3D%3D\", \"https://ujsportal.pacourts.us/Report/CpDocketSheet?docketNumber=CP-01-CR-0000057-2005&dnh=6C0RoGBLPa1aqbfxuSgrAA%3D%3D\", \"https://ujsportal.pacourts.us/Report/CpDocketSheet?docketNumber=CP-01-CR-0000089-2005&dnh=UOsGIFOK2EW0daq0IdvfCQ%3D%3D\", \"https://ujsportal.pacourts.us/Report/CpDocketSheet?docketNumber=CP-01-CR-0000113-2005&dnh=d2DivQYFi%2F%2FZrAXGVImrTg%3D%3D\", \"https://ujsportal.pacourts.us/Report/CpDocketSheet?docketNumber=CP-01-CR-0000114-2005&dnh=oJxlheIxD4NxR3%2BwiPqnlA%3D%3D\", \"https://ujsportal.pacourts.us/Report/CpDocketSheet?docketNumber=CP-01-CR-0000139-2005&dnh=Q4Jw4cnDqHGrKBIGVSZ7CQ%3D%3D\", \"https://ujsportal.pacourts.us/Report/MdjDocketSheet?docketNumber=MJ-51303-CR-0000288-2004&dnh=MyKcHWwvSSmIz0Qdy1CV5g%3D%3D\"]\n",
    "\n",
    "#names = [\"Adams_CP-01-CR-0000044-2005_DS.pdf\", \"Adams_CP-01-CR-0000057-2005_DS.pdf\", \"Adams_CP-01-CR-0000089-2005_DS.pdf\", \"Adams_CP-01-CR-0000113-2005_DS.pdf\", \"Adams_CP-01-CR-0000114-2005_DS.pdf\", \"Adams_CP-01-CR-0000139-2005_DS.pdf\", \"Adams_MJ-51303-CR-0000288-2004_DS.pdf\"]\n",
    "\n",
    "def download_pdf(url, name, key=apikey):\n",
    "    response = requests.get(\n",
    "        url=\"https://api.zenrows.com/v1/\",\n",
    "        params = {\n",
    "            \"url\": url,\n",
    "            \"apikey\": key\n",
    "        }\n",
    "    )\n",
    "\n",
    "    with open(name, \"wb\") as f:\n",
    "        f.write(response.content)\n",
    "\n",
    "    return {\"status_code\": response.status_code}\n",
    "\n",
    "pool = ThreadPool(concurrency)\n",
    "results = pool.starmap(download_pdf, zip(urls, names))\n",
    "pool.close()\n",
    "pool.join()"
   ]
  },
  {
   "cell_type": "code",
   "execution_count": 17,
   "metadata": {},
   "outputs": [
    {
     "name": "stdout",
     "output_type": "stream",
     "text": [
      "{'status_code': 200}\n",
      "{'status_code': 200}\n",
      "{'status_code': 200}\n",
      "{'status_code': 200}\n",
      "{'status_code': 200}\n",
      "{'status_code': 200}\n",
      "{'status_code': 200}\n"
     ]
    }
   ],
   "source": [
    "for result in results:\n",
    "    print(result)"
   ]
  }
 ],
 "metadata": {
  "kernelspec": {
   "display_name": "secret_lives_pa_virtenv",
   "language": "python",
   "name": "python3"
  },
  "language_info": {
   "codemirror_mode": {
    "name": "ipython",
    "version": 3
   },
   "file_extension": ".py",
   "mimetype": "text/x-python",
   "name": "python",
   "nbconvert_exporter": "python",
   "pygments_lexer": "ipython3",
   "version": "3.11.0"
  }
 },
 "nbformat": 4,
 "nbformat_minor": 2
}
