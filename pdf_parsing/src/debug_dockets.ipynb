{
 "cells": [
  {
   "cell_type": "code",
   "execution_count": 1,
   "metadata": {},
   "outputs": [],
   "source": [
    "\n",
    "import json\n",
    "import os\n",
    "import sys\n",
    "import pathlib\n",
    "\n",
    "from dockets.docket_extract import *"
   ]
  },
  {
   "cell_type": "code",
   "execution_count": 6,
   "metadata": {},
   "outputs": [],
   "source": [
    "fname = \"../data/example_docketsheets_courtsummaries/DS_MC-51-CR-0016214-2020.pdf\"\n",
    "extracts = extract_all(fname)"
   ]
  },
  {
   "cell_type": "code",
   "execution_count": 7,
   "metadata": {},
   "outputs": [
    {
     "data": {
      "text/plain": [
       "{'defendant_info': {'dob': '09/28/1988',\n",
       "  'race': None,\n",
       "  'sex': None,\n",
       "  'counsel_advised': None,\n",
       "  'defender_requested': None,\n",
       "  'application_provided': None,\n",
       "  'was_fingerprinted': None},\n",
       " 'case_status': 'Inactive',\n",
       " 'arrest_date': '08/27/2020',\n",
       " 'status_info': '[{\"status_date\":\"04\\\\/26\\\\/2021\",\"processing_status\":\"Awaiting Trial\"}]',\n",
       " 'calendar_events': '[{\"start_datetime\":\"08\\\\/27\\\\/2020  5:58 pm\",\"event_type\":\"Preliminary Arraignment\",\"room\":\"B08\",\"judge\":\"\",\"status\":\"Scheduled\"},{\"start_datetime\":\"10\\\\/14\\\\/2020 10:00 am\",\"event_type\":\"Status\",\"room\":\"404\",\"judge\":\"Judge Patrick F. Dugan\",\"status\":\"Scheduled\"},{\"start_datetime\":\"12\\\\/02\\\\/2020  9:00 am\",\"event_type\":null,\"room\":\"200\",\"judge\":\"\",\"status\":\"Cancelled\"},{\"start_datetime\":\"09\\\\/16\\\\/2021 11:30 am\",\"event_type\":\"Trial\",\"room\":\"606\",\"judge\":\"Judge David H. Conroy\",\"status\":\"Continued\"},{\"start_datetime\":\"12\\\\/10\\\\/2021 10:00 am\",\"event_type\":\"Trial\",\"room\":\"405\",\"judge\":\"Judge David H. Conroy\",\"status\":\"Scheduled\"}]',\n",
       " 'case_participants': '[{\"role\":\"Defendant\",\"name\":\"Johnson, Edward\"}]',\n",
       " 'docket_entries': None,\n",
       " 'attorney_info': '[{\"title\":\"\",\"name\":\"Philadelphia County District Attorney\\'s\"},{\"title\":\"\",\"name\":\"Defender Association of\"}]',\n",
       " 'bail_info': {'nebbia_status': None,\n",
       "  'actions': [{'action_type': 'Set',\n",
       "    'action_date': '08/27/2020',\n",
       "    'bail_type': 'Unsecured',\n",
       "    'originating_court': 'Municipal Court',\n",
       "    'amount': '$2,500.00'},\n",
       "   {'action_type': 'Forfeit',\n",
       "    'action_date': '12/10/2021',\n",
       "    'bail_type': 'Unsecured',\n",
       "    'originating_court': 'Municipal Court',\n",
       "    'amount': '$2,500.00'}]},\n",
       " 'charges': '[{\"Seq\":\"1\",\"Orig Seq\":\"1\",\"Grade\":\"\",\"Statute\":\"75 \\\\u00a7 3802\",\"Statute Description\":\"DUI: Gen Imp\\\\/Inc of Driving Safely - 1st Off\",\"Offense Dt.\":\"08\\\\/27\\\\/2020\",\"OTN\":\"U 210711-4\"},{\"Seq\":\"2\",\"Orig Seq\":\"2\",\"Grade\":\"\",\"Statute\":\"75 \\\\u00a7 1543\",\"Statute Description\":\"Driv While Oper Priv Susp Or Revoked\",\"Offense Dt.\":\"08\\\\/27\\\\/2020\",\"OTN\":\"U 210711-4\"},{\"Seq\":\"3\",\"Orig Seq\":\"3\",\"Grade\":\"\",\"Statute\":\"75 \\\\u00a7 3745\",\"Statute Description\":\"Acci Dam To Unattended Veh Or Propert\",\"Offense Dt.\":\"08\\\\/27\\\\/2020\",\"OTN\":\"U 210711-4\"},{\"Seq\":\"4\",\"Orig Seq\":\"4\",\"Grade\":\"\",\"Statute\":\"75 \\\\u00a7 3745\",\"Statute Description\":\"Acci Dam To Unattended Veh Or Propert\",\"Offense Dt.\":\"08\\\\/27\\\\/2020\",\"OTN\":\"U 210711-4\"}]'}"
      ]
     },
     "execution_count": 7,
     "metadata": {},
     "output_type": "execute_result"
    }
   ],
   "source": [
    "extracts"
   ]
  },
  {
   "cell_type": "code",
   "execution_count": 4,
   "metadata": {},
   "outputs": [
    {
     "data": {
      "text/plain": [
       "['COURT OF COMMON PLEAS OF FOREST COUNTY                            \\n                                       DOCKET',\n",
       " 'CRIMINAL DOCKET',\n",
       " '',\n",
       " 'CASE INFORMATION',\n",
       " 'STATUS INFORMATION',\n",
       " 'CALENDAR EVENTS',\n",
       " 'DEFENDANT INFORMATION',\n",
       " 'CASE PARTICIPANTS',\n",
       " 'BAIL',\n",
       " 'CHARGES',\n",
       " 'DISPOSITION SENTENCING/PENALTIES',\n",
       " 'ATTORNEY INFORMATION',\n",
       " 'ENTRIES',\n",
       " 'PAYMENT PLAN SUMMARY',\n",
       " 'CASE FINANCIAL INFORMATION']"
      ]
     },
     "execution_count": 4,
     "metadata": {},
     "output_type": "execute_result"
    }
   ],
   "source": [
    "sections = extract_sections(extract_text_from_pdf(fname))\n",
    "list(sections.keys())"
   ]
  },
  {
   "cell_type": "code",
   "execution_count": 5,
   "metadata": {},
   "outputs": [
    {
     "data": {
      "text/plain": [
       "'Case Status: Closed  Status Date Processing Status          Arrest Date: 04/14/2005\\n                          11/14/2005 Completed                                      \\n                          09/22/2005 Awaiting Appellate Court Decision              \\n                          08/31/2005 Sentenced/Penalty Imposed                      \\n                          08/23/2005 Awaiting PSI                                   \\n                          08/23/2005 Awaiting Sentencing                            \\n                          07/12/2005 Awaiting Sentencing                            \\n                          07/12/2005 Awaiting Plea Court                            \\n                          06/08/2005 Awaiting Formal Arraignment                    \\n                          05/18/2005 Awaiting Pre-Trial Conference                  \\n                          05/13/2005 Awaiting Filing of Information                 \\n                          05/13/2005 Awaiting Formal Arraignment'"
      ]
     },
     "execution_count": 5,
     "metadata": {},
     "output_type": "execute_result"
    }
   ],
   "source": [
    "sections[\"STATUS INFORMATION\"]"
   ]
  },
  {
   "cell_type": "code",
   "execution_count": null,
   "metadata": {},
   "outputs": [],
   "source": []
  }
 ],
 "metadata": {
  "kernelspec": {
   "display_name": "base",
   "language": "python",
   "name": "python3"
  },
  "language_info": {
   "codemirror_mode": {
    "name": "ipython",
    "version": 3
   },
   "file_extension": ".py",
   "mimetype": "text/x-python",
   "name": "python",
   "nbconvert_exporter": "python",
   "pygments_lexer": "ipython3",
   "version": "3.12.8"
  }
 },
 "nbformat": 4,
 "nbformat_minor": 2
}
