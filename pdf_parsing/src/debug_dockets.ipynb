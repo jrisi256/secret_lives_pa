{
 "cells": [
  {
   "cell_type": "code",
   "execution_count": 1,
   "metadata": {},
   "outputs": [],
   "source": [
    "\n",
    "import json\n",
    "import os\n",
    "import sys\n",
    "import pathlib\n",
    "\n",
    "from dockets.docket_extract import *"
   ]
  },
  {
   "cell_type": "code",
   "execution_count": null,
   "metadata": {},
   "outputs": [],
   "source": [
    "fname = \"../data/example_docketsheets_courtsummaries/DS_CP-27-CR-0000035-2005.pdf\"\n",
    "extracts = extract_all(fname)"
   ]
  },
  {
   "cell_type": "code",
   "execution_count": 3,
   "metadata": {},
   "outputs": [
    {
     "data": {
      "text/plain": [
       "{'defendant_info': {'dob': '06/14/1959',\n",
       "  'race': None,\n",
       "  'sex': None,\n",
       "  'counsel_advised': None,\n",
       "  'defender_requested': None,\n",
       "  'application_provided': None,\n",
       "  'was_fingerprinted': None},\n",
       " 'case_status': 'Closed',\n",
       " 'arrest_date': '04/14/2005',\n",
       " 'status_info': '[{\"status_date\":\"11\\\\/14\\\\/2005\",\"processing_status\":\"Completed\"},{\"status_date\":\"09\\\\/22\\\\/2005\",\"processing_status\":\"Awaiting Appellate Court Decision\"},{\"status_date\":\"08\\\\/31\\\\/2005\",\"processing_status\":\"Sentenced\\\\/Penalty Imposed\"},{\"status_date\":\"08\\\\/23\\\\/2005\",\"processing_status\":\"Awaiting PSI\"},{\"status_date\":\"08\\\\/23\\\\/2005\",\"processing_status\":\"Awaiting Sentencing\"},{\"status_date\":\"07\\\\/12\\\\/2005\",\"processing_status\":\"Awaiting Sentencing\"},{\"status_date\":\"07\\\\/12\\\\/2005\",\"processing_status\":\"Awaiting Plea Court\"},{\"status_date\":\"06\\\\/08\\\\/2005\",\"processing_status\":\"Awaiting Formal Arraignment\"},{\"status_date\":\"05\\\\/18\\\\/2005\",\"processing_status\":\"Awaiting Pre-Trial Conference\"},{\"status_date\":\"05\\\\/13\\\\/2005\",\"processing_status\":\"Awaiting Filing of Information\"},{\"status_date\":\"05\\\\/13\\\\/2005\",\"processing_status\":\"Awaiting Formal Arraignment\"}]',\n",
       " 'calendar_events': '[{\"start_datetime\":\"06\\\\/03\\\\/2005  9:00 am\",\"event_type\":\"Formal Arraignment\",\"room\":null,\"judge\":\"\",\"status\":\"Scheduled\"}]',\n",
       " 'case_participants': '[{\"role\":\"Defendant\",\"name\":\"Loll, Daniel Mark\"}]',\n",
       " 'docket_entries': None,\n",
       " 'attorney_info': '[{\"title\":\"District Attorney\",\"name\":\"Barbara C. Litten, Esq.\"},{\"title\":\"Public Defender\",\"name\":\"Elizabeth A. Ziegler *\"}]',\n",
       " 'bail_info': {'nebbia_status': None,\n",
       "  'actions': [{'action_type': 'Set',\n",
       "    'action_date': '04/14/2005',\n",
       "    'bail_type': 'Monetary',\n",
       "    'originating_court': 'Common Pleas',\n",
       "    'amount': '$2,500.00'}]},\n",
       " 'charges': '[{\"Seq\":\"1\",\"Orig Seq\":\"1\",\"Grade\":\"M2\",\"Statute\":\"18 \\\\u00a7 3928 \\\\u00a7\\\\u00a7 A\",\"Statute Description\":\"Unauth Use Motor\\\\/Other Vehicles\",\"Offense Dt.\":\"02\\\\/14\\\\/2005\",\"OTN\":\"H 029661-2\"},{\"Seq\":\"3\",\"Orig Seq\":\"3\",\"Grade\":\"M2\",\"Statute\":\"18 \\\\u00a7 3921 \\\\u00a7\\\\u00a7 A\",\"Statute Description\":\"Theft By Unlaw Taking-Movable Prop\",\"Offense Dt.\":\"02\\\\/14\\\\/2005\",\"OTN\":\"H 029661-2\"},{\"Seq\":\"5\",\"Orig Seq\":\"5\",\"Grade\":\"M2\",\"Statute\":\"18 \\\\u00a7 3925 \\\\u00a7\\\\u00a7 A\",\"Statute Description\":\"Receiving Stolen Property\",\"Offense Dt.\":\"02\\\\/14\\\\/2005\",\"OTN\":\"H 029661-2\"}]'}"
      ]
     },
     "execution_count": 3,
     "metadata": {},
     "output_type": "execute_result"
    }
   ],
   "source": [
    "extracts"
   ]
  },
  {
   "cell_type": "code",
   "execution_count": 4,
   "metadata": {},
   "outputs": [
    {
     "data": {
      "text/plain": [
       "['COURT OF COMMON PLEAS OF FOREST COUNTY                            \\n                                       DOCKET',\n",
       " 'CRIMINAL DOCKET',\n",
       " '',\n",
       " 'CASE INFORMATION',\n",
       " 'STATUS INFORMATION',\n",
       " 'CALENDAR EVENTS',\n",
       " 'DEFENDANT INFORMATION',\n",
       " 'CASE PARTICIPANTS',\n",
       " 'BAIL',\n",
       " 'CHARGES',\n",
       " 'DISPOSITION SENTENCING/PENALTIES',\n",
       " 'ATTORNEY INFORMATION',\n",
       " 'ENTRIES',\n",
       " 'PAYMENT PLAN SUMMARY',\n",
       " 'CASE FINANCIAL INFORMATION']"
      ]
     },
     "execution_count": 4,
     "metadata": {},
     "output_type": "execute_result"
    }
   ],
   "source": [
    "sections = extract_sections(extract_text_from_pdf(fname))\n",
    "list(sections.keys())"
   ]
  },
  {
   "cell_type": "code",
   "execution_count": 5,
   "metadata": {},
   "outputs": [
    {
     "data": {
      "text/plain": [
       "'Case Status: Closed  Status Date Processing Status          Arrest Date: 04/14/2005\\n                          11/14/2005 Completed                                      \\n                          09/22/2005 Awaiting Appellate Court Decision              \\n                          08/31/2005 Sentenced/Penalty Imposed                      \\n                          08/23/2005 Awaiting PSI                                   \\n                          08/23/2005 Awaiting Sentencing                            \\n                          07/12/2005 Awaiting Sentencing                            \\n                          07/12/2005 Awaiting Plea Court                            \\n                          06/08/2005 Awaiting Formal Arraignment                    \\n                          05/18/2005 Awaiting Pre-Trial Conference                  \\n                          05/13/2005 Awaiting Filing of Information                 \\n                          05/13/2005 Awaiting Formal Arraignment'"
      ]
     },
     "execution_count": 5,
     "metadata": {},
     "output_type": "execute_result"
    }
   ],
   "source": [
    "sections[\"STATUS INFORMATION\"]"
   ]
  },
  {
   "cell_type": "code",
   "execution_count": null,
   "metadata": {},
   "outputs": [],
   "source": []
  }
 ],
 "metadata": {
  "kernelspec": {
   "display_name": "base",
   "language": "python",
   "name": "python3"
  },
  "language_info": {
   "codemirror_mode": {
    "name": "ipython",
    "version": 3
   },
   "file_extension": ".py",
   "mimetype": "text/x-python",
   "name": "python",
   "nbconvert_exporter": "python",
   "pygments_lexer": "ipython3",
   "version": "3.12.8"
  }
 },
 "nbformat": 4,
 "nbformat_minor": 2
}
